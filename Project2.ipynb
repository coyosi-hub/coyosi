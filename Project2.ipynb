{
  "nbformat": 4,
  "nbformat_minor": 0,
  "metadata": {
    "colab": {
      "name": "Project2.ipynb",
      "provenance": [],
      "collapsed_sections": [],
      "authorship_tag": "ABX9TyP2WokqEt9ydVrLrIgcQzMm",
      "include_colab_link": true
    },
    "kernelspec": {
      "name": "python3",
      "display_name": "Python 3"
    },
    "language_info": {
      "name": "python"
    },
    "accelerator": "GPU",
    "gpuClass": "standard"
  },
  "cells": [
    {
      "cell_type": "markdown",
      "metadata": {
        "id": "view-in-github",
        "colab_type": "text"
      },
      "source": [
        "<a href=\"https://colab.research.google.com/github/coyosi-hub/coyosi/blob/master/Project2.ipynb\" target=\"_parent\"><img src=\"https://colab.research.google.com/assets/colab-badge.svg\" alt=\"Open In Colab\"/></a>"
      ]
    },
    {
      "cell_type": "code",
      "source": [
        "pip install wandb"
      ],
      "metadata": {
        "colab": {
          "base_uri": "https://localhost:8080/"
        },
        "id": "rB8id6gPzOxC",
        "outputId": "f93a528d-3290-4830-ac63-d186c868a83b"
      },
      "execution_count": null,
      "outputs": [
        {
          "output_type": "stream",
          "name": "stdout",
          "text": [
            "Looking in indexes: https://pypi.org/simple, https://us-python.pkg.dev/colab-wheels/public/simple/\n",
            "Requirement already satisfied: wandb in /usr/local/lib/python3.7/dist-packages (0.12.21)\n",
            "Requirement already satisfied: requests<3,>=2.0.0 in /usr/local/lib/python3.7/dist-packages (from wandb) (2.23.0)\n",
            "Requirement already satisfied: Click!=8.0.0,>=7.0 in /usr/local/lib/python3.7/dist-packages (from wandb) (7.1.2)\n",
            "Requirement already satisfied: setproctitle in /usr/local/lib/python3.7/dist-packages (from wandb) (1.2.3)\n",
            "Requirement already satisfied: protobuf<4.0dev,>=3.12.0 in /usr/local/lib/python3.7/dist-packages (from wandb) (3.17.3)\n",
            "Requirement already satisfied: GitPython>=1.0.0 in /usr/local/lib/python3.7/dist-packages (from wandb) (3.1.27)\n",
            "Requirement already satisfied: shortuuid>=0.5.0 in /usr/local/lib/python3.7/dist-packages (from wandb) (1.0.9)\n",
            "Requirement already satisfied: setuptools in /usr/local/lib/python3.7/dist-packages (from wandb) (57.4.0)\n",
            "Requirement already satisfied: PyYAML in /usr/local/lib/python3.7/dist-packages (from wandb) (3.13)\n",
            "Requirement already satisfied: promise<3,>=2.0 in /usr/local/lib/python3.7/dist-packages (from wandb) (2.3)\n",
            "Requirement already satisfied: sentry-sdk>=1.0.0 in /usr/local/lib/python3.7/dist-packages (from wandb) (1.7.2)\n",
            "Requirement already satisfied: docker-pycreds>=0.4.0 in /usr/local/lib/python3.7/dist-packages (from wandb) (0.4.0)\n",
            "Requirement already satisfied: psutil>=5.0.0 in /usr/local/lib/python3.7/dist-packages (from wandb) (5.4.8)\n",
            "Requirement already satisfied: pathtools in /usr/local/lib/python3.7/dist-packages (from wandb) (0.1.2)\n",
            "Requirement already satisfied: six>=1.13.0 in /usr/local/lib/python3.7/dist-packages (from wandb) (1.15.0)\n",
            "Requirement already satisfied: gitdb<5,>=4.0.1 in /usr/local/lib/python3.7/dist-packages (from GitPython>=1.0.0->wandb) (4.0.9)\n",
            "Requirement already satisfied: typing-extensions>=3.7.4.3 in /usr/local/lib/python3.7/dist-packages (from GitPython>=1.0.0->wandb) (4.1.1)\n",
            "Requirement already satisfied: smmap<6,>=3.0.1 in /usr/local/lib/python3.7/dist-packages (from gitdb<5,>=4.0.1->GitPython>=1.0.0->wandb) (5.0.0)\n",
            "Requirement already satisfied: chardet<4,>=3.0.2 in /usr/local/lib/python3.7/dist-packages (from requests<3,>=2.0.0->wandb) (3.0.4)\n",
            "Requirement already satisfied: certifi>=2017.4.17 in /usr/local/lib/python3.7/dist-packages (from requests<3,>=2.0.0->wandb) (2022.6.15)\n",
            "Requirement already satisfied: urllib3!=1.25.0,!=1.25.1,<1.26,>=1.21.1 in /usr/local/lib/python3.7/dist-packages (from requests<3,>=2.0.0->wandb) (1.24.3)\n",
            "Requirement already satisfied: idna<3,>=2.5 in /usr/local/lib/python3.7/dist-packages (from requests<3,>=2.0.0->wandb) (2.10)\n"
          ]
        }
      ]
    },
    {
      "cell_type": "markdown",
      "source": [
        ""
      ],
      "metadata": {
        "id": "wW47kBW1zjRi"
      }
    },
    {
      "cell_type": "code",
      "execution_count": null,
      "metadata": {
        "id": "qRWKeSiqei7z"
      },
      "outputs": [],
      "source": [
        "\n",
        "import os\n",
        "import tensorflow as tf\n",
        "import numpy as np\n",
        "import matplotlib.pyplot as plt\n",
        "import pandas as pd\n",
        "import keras\n",
        "from keras.layers import Conv2D\n",
        "from keras.models import Sequential\n",
        "from keras.layers import Dense, Conv2D, MaxPool2D , Flatten, Dropout\n",
        "from keras.preprocessing.image import ImageDataGenerator\n",
        "import random\n",
        "import wandb\n",
        "from wandb.keras import WandbCallback\n"
      ]
    },
    {
      "cell_type": "code",
      "source": [
        "\n",
        "fashion_mnist = tf.keras.datasets.fashion_mnist\n",
        "(train_images, train_labels), (test_images, test_labels) = fashion_mnist.load_data()\n",
        "train_images.shape\n",
        "\n",
        "train_images = train_images / 255.0\n",
        "test_images = test_images / 255.0\n",
        "input_shape=(28, 28, 1)\n"
      ],
      "metadata": {
        "id": "vm2d1EoifNt3"
      },
      "execution_count": null,
      "outputs": []
    },
    {
      "cell_type": "code",
      "source": [
        "\n",
        "config={\n",
        "    \"project_name\" : 'coyosi',\n",
        "    \"learning_rate\":0.001,\n",
        "    \"epochs\": 30,\n",
        "    \"batch_size\": 256,\n",
        "    \"loss_function\": \"sparse_categorical_crossentropy\",\n",
        "    \"metrics\" : 'accuracy',\n",
        "    \"architecture\": \"CNN\",\n",
        "    \"dataset\": \"tf.keras.datasets.fashion_mnist\"\n",
        "    }"
      ],
      "metadata": {
        "id": "OSDTdmEUfnkw"
      },
      "execution_count": null,
      "outputs": []
    },
    {
      "cell_type": "code",
      "source": [
        "### Setup W&B\n",
        "wandb.login(key=\"ca9031253ddb37332ac21f4d527e9d8203bfd788\")\n",
        "run = wandb.init(project=config[\"project_name\"],config=config)\n"
      ],
      "metadata": {
        "colab": {
          "base_uri": "https://localhost:8080/",
          "height": 138
        },
        "id": "NbPOMTT1zwgB",
        "outputId": "1b39d149-39ad-442f-b4e9-cbd05e29c1ea"
      },
      "execution_count": null,
      "outputs": [
        {
          "output_type": "stream",
          "name": "stderr",
          "text": [
            "\u001b[34m\u001b[1mwandb\u001b[0m: Currently logged in as: \u001b[33mcoyosi\u001b[0m (\u001b[33mcoyosi2\u001b[0m). Use \u001b[1m`wandb login --relogin`\u001b[0m to force relogin\n",
            "\u001b[34m\u001b[1mwandb\u001b[0m: \u001b[33mWARNING\u001b[0m If you're specifying your api key in code, ensure this code is not shared publicly.\n",
            "\u001b[34m\u001b[1mwandb\u001b[0m: \u001b[33mWARNING\u001b[0m Consider setting the WANDB_API_KEY environment variable, or running `wandb login` from the command line.\n",
            "\u001b[34m\u001b[1mwandb\u001b[0m: Appending key for api.wandb.ai to your netrc file: /root/.netrc\n"
          ]
        },
        {
          "output_type": "display_data",
          "data": {
            "text/plain": [
              "<IPython.core.display.HTML object>"
            ],
            "text/html": [
              "Tracking run with wandb version 0.12.21"
            ]
          },
          "metadata": {}
        },
        {
          "output_type": "display_data",
          "data": {
            "text/plain": [
              "<IPython.core.display.HTML object>"
            ],
            "text/html": [
              "Run data is saved locally in <code>/content/wandb/run-20220717_084145-11wg2pm5</code>"
            ]
          },
          "metadata": {}
        },
        {
          "output_type": "display_data",
          "data": {
            "text/plain": [
              "<IPython.core.display.HTML object>"
            ],
            "text/html": [
              "Syncing run <strong><a href=\"https://wandb.ai/coyosi2/coyosi/runs/11wg2pm5\" target=\"_blank\">expert-dragon-61</a></strong> to <a href=\"https://wandb.ai/coyosi2/coyosi\" target=\"_blank\">Weights & Biases</a> (<a href=\"https://wandb.me/run\" target=\"_blank\">docs</a>)<br/>"
            ]
          },
          "metadata": {}
        }
      ]
    },
    {
      "cell_type": "code",
      "source": [
        "sample = 3\n",
        "img = train_images[sample]\n",
        "# plot the sample\n",
        "fig = plt.figure\n",
        "plt.imshow(img, cmap='gray')\n",
        "plt.show()\n",
        "print(img.shape)\n"
      ],
      "metadata": {
        "colab": {
          "base_uri": "https://localhost:8080/",
          "height": 282
        },
        "id": "jT4BvvUKfUNv",
        "outputId": "f75bb77e-64b4-4e36-844d-c22211b55867"
      },
      "execution_count": null,
      "outputs": [
        {
          "output_type": "display_data",
          "data": {
            "text/plain": [
              "<Figure size 432x288 with 1 Axes>"
            ],
            "image/png": "[encoded data removed]"
          },
          "metadata": {
            "needs_background": "light"
          }
        },
        {
          "output_type": "stream",
          "name": "stdout",
          "text": [
            "(28, 28)\n"
          ]
        }
      ]
    },
    {
      "cell_type": "code",
      "source": [
        "wandb.log({\"img\": [wandb.Image(img, caption=\"Dress\")]})"
      ],
      "metadata": {
        "id": "nmAz53aIz84Z"
      },
      "execution_count": null,
      "outputs": []
    },
    {
      "cell_type": "code",
      "source": [
        ""
      ],
      "metadata": {
        "id": "iyn4Rx1K0Nay"
      },
      "execution_count": null,
      "outputs": []
    },
    {
      "cell_type": "code",
      "source": [
        "datagen = ImageDataGenerator(        \n",
        "    rotation_range=90,\n",
        "    zoom_range=0.15,\n",
        "    width_shift_range=0.2,\n",
        "    height_shift_range=0.2,\n",
        "    shear_range=0.15,\n",
        "    horizontal_flip=True,\n",
        "    fill_mode=\"nearest\")"
      ],
      "metadata": {
        "id": "a6QHpTw3fZXL"
      },
      "execution_count": null,
      "outputs": []
    },
    {
      "cell_type": "code",
      "source": [
        "for i in range (0,100):\n",
        "    idx = random.randint(1,60000)\n",
        "    img = train_images[idx]\n",
        "    label = train_labels[idx]\n",
        "    img = img.reshape ( (1,) + img.shape + (1,))\n",
        "    batch_size = 1    \n",
        "    for batch in datagen.flow(img, batch_size=batch_size):\n",
        "        batch = batch.reshape((batch_size,28,28))\n",
        "        train_images = np.concatenate((train_images, batch), axis=0)         \n",
        "        break\n",
        "    train_labels = np.append(train_labels,label)         \n",
        "    "
      ],
      "metadata": {
        "id": "5ZpH0LzHfbuj"
      },
      "execution_count": null,
      "outputs": []
    },
    {
      "cell_type": "code",
      "source": [
        "for i in range (0,100):\n",
        "    idx = random.randint(1,10000)\n",
        "    img = test_images[idx]\n",
        "    label = test_labels[idx]\n",
        "    img = img.reshape ( (1,) + img.shape + (1,))\n",
        "    batch_size = 1    \n",
        "    for batch in datagen.flow(img, batch_size=batch_size):\n",
        "        batch = batch.reshape((batch_size,28,28))\n",
        "        test_images = np.concatenate((test_images, batch), axis=0)         \n",
        "        break\n",
        "    test_labels = np.append(test_labels,label)     "
      ],
      "metadata": {
        "id": "XutaPAA6feaD"
      },
      "execution_count": null,
      "outputs": []
    },
    {
      "cell_type": "code",
      "source": [
        "\n",
        "from tensorflow.keras import regularizers\n",
        "\n",
        "### Build a model\n",
        "model = Sequential()\n",
        "model.add(Dropout(rate=0.2, input_shape=input_shape))\n",
        "model.add(Conv2D(input_shape=input_shape,filters=64,kernel_size=(3,3),padding=\"same\", activation=\"relu\"))\n",
        "model.add(Conv2D(filters=64,kernel_size=(3,3),padding=\"same\", activation=\"relu\"))\n",
        "model.add(MaxPool2D(pool_size=(2,2),strides=(2,2)))\n",
        "model.add(Conv2D(filters=128, kernel_size=(3,3), padding=\"same\", activation=\"relu\"))\n",
        "model.add(Conv2D(filters=128, kernel_size=(3,3), padding=\"same\", activation=\"relu\"))\n",
        "model.add(MaxPool2D(pool_size=(2,2),strides=(2,2)))\n",
        "model.add(Flatten())\n",
        "model.add(Dense(units=1024,activation=\"relu\"))\n",
        "model.add(Dense(units=1024,activation=\"relu\"))\n",
        "model.add(Dense(units=10, activation=\"softmax\"))\n",
        "\n",
        "\n",
        "model.summary()\n",
        "\n",
        "optimizer = tf.keras.optimizers.Adam(config['learning_rate'])\n",
        "model.compile(optimizer, loss=config['loss_function'], metrics=config['metrics'])\n",
        "\n",
        "model.fit(train_images, train_labels, epochs=config['epochs'])\n",
        "\n",
        "test_loss, test_acc = model.evaluate(test_images,  test_labels, verbose=2)\n",
        "\n",
        "\n",
        "\n",
        "print('\\nTest accuracy:', test_acc)\n"
      ],
      "metadata": {
        "colab": {
          "base_uri": "https://localhost:8080/"
        },
        "id": "QEmR8cUOfhHz",
        "outputId": "c15c71f2-d8e1-4b4f-c192-ce9f26838c4a"
      },
      "execution_count": null,
      "outputs": [
        {
          "output_type": "stream",
          "name": "stdout",
          "text": [
            "Model: \"sequential\"\n",
            "_________________________________________________________________\n",
            " Layer (type)                Output Shape              Param #   \n",
            "=================================================================\n",
            " dropout (Dropout)           (None, 28, 28, 1)         0         \n",
            "                                                                 \n",
            " conv2d (Conv2D)             (None, 28, 28, 64)        640       \n",
            "                                                                 \n",
            " conv2d_1 (Conv2D)           (None, 28, 28, 64)        36928     \n",
            "                                                                 \n",
            " max_pooling2d (MaxPooling2D  (None, 14, 14, 64)       0         \n",
            " )                                                               \n",
            "                                                                 \n",
            " conv2d_2 (Conv2D)           (None, 14, 14, 128)       73856     \n",
            "                                                                 \n",
            " conv2d_3 (Conv2D)           (None, 14, 14, 128)       147584    \n",
            "                                                                 \n",
            " max_pooling2d_1 (MaxPooling  (None, 7, 7, 128)        0         \n",
            " 2D)                                                             \n",
            "                                                                 \n",
            " flatten (Flatten)           (None, 6272)              0         \n",
            "                                                                 \n",
            " dense (Dense)               (None, 1024)              6423552   \n",
            "                                                                 \n",
            " dense_1 (Dense)             (None, 1024)              1049600   \n",
            "                                                                 \n",
            " dense_2 (Dense)             (None, 10)                10250     \n",
            "                                                                 \n",
            "=================================================================\n",
            "Total params: 7,742,410\n",
            "Trainable params: 7,742,410\n",
            "Non-trainable params: 0\n",
            "_________________________________________________________________\n",
            "Epoch 1/30\n",
            "1879/1879 [==============================] - 19s 8ms/step - loss: 0.4114 - accuracy: 0.8474\n",
            "Epoch 2/30\n",
            "1879/1879 [==============================] - 15s 8ms/step - loss: 0.2855 - accuracy: 0.8928\n",
            "Epoch 3/30\n",
            "1879/1879 [==============================] - 15s 8ms/step - loss: 0.2480 - accuracy: 0.9082\n",
            "Epoch 4/30\n",
            "1879/1879 [==============================] - 16s 8ms/step - loss: 0.2122 - accuracy: 0.9203\n",
            "Epoch 5/30\n",
            "1879/1879 [==============================] - 15s 8ms/step - loss: 0.1897 - accuracy: 0.9292\n",
            "Epoch 6/30\n",
            "1879/1879 [==============================] - 15s 8ms/step - loss: 0.1695 - accuracy: 0.9363\n",
            "Epoch 7/30\n",
            "1879/1879 [==============================] - 15s 8ms/step - loss: 0.1514 - accuracy: 0.9435\n",
            "Epoch 8/30\n",
            "1879/1879 [==============================] - 15s 8ms/step - loss: 0.1357 - accuracy: 0.9485\n",
            "Epoch 9/30\n",
            "1879/1879 [==============================] - 15s 8ms/step - loss: 0.1206 - accuracy: 0.9548\n",
            "Epoch 10/30\n",
            "1879/1879 [==============================] - 15s 8ms/step - loss: 0.1107 - accuracy: 0.9583\n",
            "Epoch 11/30\n",
            "1879/1879 [==============================] - 15s 8ms/step - loss: 0.1012 - accuracy: 0.9622\n",
            "Epoch 12/30\n",
            "1879/1879 [==============================] - 17s 9ms/step - loss: 0.0969 - accuracy: 0.9639\n",
            "Epoch 13/30\n",
            "1879/1879 [==============================] - 15s 8ms/step - loss: 0.0884 - accuracy: 0.9677\n",
            "Epoch 14/30\n",
            "1879/1879 [==============================] - 15s 8ms/step - loss: 0.0816 - accuracy: 0.9706\n",
            "Epoch 15/30\n",
            "1879/1879 [==============================] - 15s 8ms/step - loss: 0.0810 - accuracy: 0.9713\n",
            "Epoch 16/30\n",
            "1879/1879 [==============================] - 15s 8ms/step - loss: 0.0711 - accuracy: 0.9747\n",
            "Epoch 17/30\n",
            "1879/1879 [==============================] - 15s 8ms/step - loss: 0.0673 - accuracy: 0.9761\n",
            "Epoch 18/30\n",
            "1879/1879 [==============================] - 15s 8ms/step - loss: 0.0666 - accuracy: 0.9763\n",
            "Epoch 19/30\n",
            "1879/1879 [==============================] - 15s 8ms/step - loss: 0.0577 - accuracy: 0.9790\n",
            "Epoch 20/30\n",
            "1879/1879 [==============================] - 15s 8ms/step - loss: 0.0608 - accuracy: 0.9785\n",
            "Epoch 21/30\n",
            "1879/1879 [==============================] - 15s 8ms/step - loss: 0.0598 - accuracy: 0.9794\n",
            "Epoch 22/30\n",
            "1879/1879 [==============================] - 15s 8ms/step - loss: 0.0516 - accuracy: 0.9821\n",
            "Epoch 23/30\n",
            "1879/1879 [==============================] - 15s 8ms/step - loss: 0.0565 - accuracy: 0.9811\n",
            "Epoch 24/30\n",
            "1879/1879 [==============================] - 15s 8ms/step - loss: 0.0500 - accuracy: 0.9830\n",
            "Epoch 25/30\n",
            "1879/1879 [==============================] - 16s 8ms/step - loss: 0.0490 - accuracy: 0.9834\n",
            "Epoch 26/30\n",
            "1879/1879 [==============================] - 15s 8ms/step - loss: 0.0533 - accuracy: 0.9829\n",
            "Epoch 27/30\n",
            "1879/1879 [==============================] - 15s 8ms/step - loss: 0.0435 - accuracy: 0.9848\n",
            "Epoch 28/30\n",
            "1879/1879 [==============================] - 15s 8ms/step - loss: 0.0469 - accuracy: 0.9843\n",
            "Epoch 29/30\n",
            "1879/1879 [==============================] - 16s 8ms/step - loss: 0.0436 - accuracy: 0.9857\n",
            "Epoch 30/30\n",
            "1879/1879 [==============================] - 15s 8ms/step - loss: 0.0461 - accuracy: 0.9852\n",
            "316/316 - 1s - loss: 0.6474 - accuracy: 0.9047 - 1s/epoch - 4ms/step\n",
            "\n",
            "Test accuracy: 0.9046534895896912\n"
          ]
        }
      ]
    },
    {
      "cell_type": "code",
      "source": [
        "predictions = model.predict(x=test_images,batch_size=10,verbose=0)"
      ],
      "metadata": {
        "id": "GY4u4bIhYxMM"
      },
      "execution_count": null,
      "outputs": []
    },
    {
      "cell_type": "code",
      "source": [
        "preds = np.argmax(predictions, axis=1)"
      ],
      "metadata": {
        "id": "mVWhp5LLY7-i"
      },
      "execution_count": null,
      "outputs": []
    },
    {
      "cell_type": "code",
      "source": [
        "len(preds)"
      ],
      "metadata": {
        "colab": {
          "base_uri": "https://localhost:8080/"
        },
        "id": "JLKfXhQkZLaj",
        "outputId": "d8d5a6eb-225e-4554-e001-bfcd3038c66f"
      },
      "execution_count": null,
      "outputs": [
        {
          "output_type": "execute_result",
          "data": {
            "text/plain": [
              "10100"
            ]
          },
          "metadata": {},
          "execution_count": 24
        }
      ]
    },
    {
      "cell_type": "code",
      "source": [
        "from sklearn.metrics import confusion_matrix\n",
        "\n",
        "cm=confusion_matrix(y_true=test_labels, y_pred=preds)\n",
        "print(cm)"
      ],
      "metadata": {
        "id": "n8tyMtzffpxH",
        "colab": {
          "base_uri": "https://localhost:8080/"
        },
        "outputId": "9a099455-faeb-4a47-af2a-b3c1d37f0e1a"
      },
      "execution_count": null,
      "outputs": [
        {
          "output_type": "stream",
          "name": "stdout",
          "text": [
            "[[895   2  13  11   2   0  77   0   5   1]\n",
            " [  1 983   1  15   1   1   4   0   3   0]\n",
            " [ 23   2 896   8  21   0  55   0   5   1]\n",
            " [ 13   4   7 934  23   3  22   0   3   1]\n",
            " [  8   1 126  23 755   0  92   0   3   2]\n",
            " [  2   0   0   0   2 987   1  13   0  12]\n",
            " [131   0  72  26  24   1 743   0   8   0]\n",
            " [  1   1   0   4   0   3   0 980   1  21]\n",
            " [  2   0   0   6   1   5   3   1 994   0]\n",
            " [  2   0   0   0   0   5   2  29   1 970]]\n"
          ]
        }
      ]
    },
    {
      "cell_type": "code",
      "source": [
        "from sklearn.metrics import classification_report\n",
        "print(classification_report(test_labels, preds))"
      ],
      "metadata": {
        "colab": {
          "base_uri": "https://localhost:8080/"
        },
        "id": "QbLS9UTFbUjc",
        "outputId": "1eae58d7-0037-4b01-eed8-553ba8221d8e"
      },
      "execution_count": null,
      "outputs": [
        {
          "output_type": "stream",
          "name": "stdout",
          "text": [
            "              precision    recall  f1-score   support\n",
            "\n",
            "           0       0.83      0.89      0.86      1006\n",
            "           1       0.99      0.97      0.98      1009\n",
            "           2       0.80      0.89      0.84      1011\n",
            "           3       0.91      0.92      0.92      1010\n",
            "           4       0.91      0.75      0.82      1010\n",
            "           5       0.98      0.97      0.98      1017\n",
            "           6       0.74      0.74      0.74      1005\n",
            "           7       0.96      0.97      0.96      1011\n",
            "           8       0.97      0.98      0.98      1012\n",
            "           9       0.96      0.96      0.96      1009\n",
            "\n",
            "    accuracy                           0.90     10100\n",
            "   macro avg       0.91      0.90      0.90     10100\n",
            "weighted avg       0.91      0.90      0.90     10100\n",
            "\n"
          ]
        }
      ]
    },
    {
      "cell_type": "code",
      "source": [
        "arr = []\n",
        "dirnames = ['Top', 'Trousers', 'Pullover', 'Dress', 'Coat', 'Sandal', 'Shirt', 'Sneaker', 'Bag', 'Boot']\n",
        "for i in range(1,6):\n",
        "  sample = random.randint(10000,10099)\n",
        "  img = test_images[sample]\n",
        "  # plot the sample\n",
        "  #fig = plt.figure\n",
        "  #plt.imshow(img, cmap='gray')\n",
        "  #plt.show()\n",
        "  img = np.expand_dims(img, axis=0)\n",
        "  preds = model.predict(img)\n",
        "  top_pred_idx = np.argmax(np.array(preds[0]))\n",
        "  pred_class = dirnames[top_pred_idx]\n",
        "  arr = arr + [wandb.Image(img, caption=pred_class)] \n",
        "  \n",
        "  #arr = arr + [wandb.Image(img, caption=pred_class)]\n",
        "\n",
        "wandb.log({\"aug images\": arr})\n",
        "#wandb.log({\"aug images\": arr})\n",
        "#wandb.finish()\n"
      ],
      "metadata": {
        "id": "CkhAMM-22ElD"
      },
      "execution_count": null,
      "outputs": []
    },
    {
      "cell_type": "code",
      "source": [
        ""
      ],
      "metadata": {
        "id": "nl_FXEUKH7ua"
      },
      "execution_count": null,
      "outputs": []
    }
  ]
}