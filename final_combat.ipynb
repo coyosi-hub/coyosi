{
  "nbformat": 4,
  "nbformat_minor": 0,
  "metadata": {
    "colab": {
      "provenance": [],
      "authorship_tag": "ABX9TyM1V5K8ukzwE8bd/FJIPR7C",
      "include_colab_link": true
    },
    "kernelspec": {
      "name": "python3",
      "display_name": "Python 3"
    },
    "language_info": {
      "name": "python"
    }
  },
  "cells": [
    {
      "cell_type": "markdown",
      "metadata": {
        "id": "view-in-github",
        "colab_type": "text"
      },
      "source": [
        "<a href=\"https://colab.research.google.com/github/coyosi-hub/coyosi/blob/master/final_combat.ipynb\" target=\"_parent\"><img src=\"https://colab.research.google.com/assets/colab-badge.svg\" alt=\"Open In Colab\"/></a>"
      ]
    },
    {
      "cell_type": "code",
      "execution_count": 3,
      "metadata": {
        "id": "K8T8ntvCsyzq",
        "outputId": "91cd6675-7525-4589-9021-a11cba66b99d",
        "colab": {
          "base_uri": "https://localhost:8080/",
          "height": 339
        }
      },
      "outputs": [
        {
          "output_type": "stream",
          "name": "stdout",
          "text": [
            "choose your enemy: [1] Soul Strangler, [2] Grim Grip, [3] Mad Matrix:1\n",
            "You chose the Soul Strangler to be your rival! Be aware, its hp stands at 10 and its dmg stands at 5.\n",
            "Choose your weapon: [1] Dagger, [2] Sword, [3] Hammer:chainsaw\n",
            "You have discovered the chainsaw! Your damage can not be described.\n",
            "what do you want to do? ([1] attack and, [2] heal.)1\n",
            "You have attacked your enemy, its health has decresed by  999 . It now has  -989 hp.\n",
            "-continue-\n",
            "you win!\n"
          ]
        },
        {
          "output_type": "error",
          "ename": "NameError",
          "evalue": "ignored",
          "traceback": [
            "\u001b[0;31m---------------------------------------------------------------------------\u001b[0m",
            "\u001b[0;31mNameError\u001b[0m                                 Traceback (most recent call last)",
            "\u001b[0;32m<ipython-input-3-39184a3be732>\u001b[0m in \u001b[0;36m<module>\u001b[0;34m\u001b[0m\n\u001b[1;32m     75\u001b[0m    \u001b[0mprint\u001b[0m\u001b[0;34m(\u001b[0m\u001b[0;34m\"YOU WERE A\"\u001b[0m\u001b[0;34m)\u001b[0m\u001b[0;34m\u001b[0m\u001b[0;34m\u001b[0m\u001b[0m\n\u001b[1;32m     76\u001b[0m   \u001b[0mprint\u001b[0m\u001b[0;34m(\u001b[0m\u001b[0;34m\"you have died...\"\u001b[0m\u001b[0;34m)\u001b[0m\u001b[0;34m\u001b[0m\u001b[0;34m\u001b[0m\u001b[0m\n\u001b[0;32m---> 77\u001b[0;31m \u001b[0mprint\u001b[0m\u001b[0;34m(\u001b[0m\u001b[0ms\u001b[0m\u001b[0;34m.\u001b[0m\u001b[0mcount\u001b[0m\u001b[0;34m(\u001b[0m\u001b[0;34m\"p\"\u001b[0m\u001b[0;34m)\u001b[0m\u001b[0;34m)\u001b[0m\u001b[0;34m\u001b[0m\u001b[0;34m\u001b[0m\u001b[0m\n\u001b[0m",
            "\u001b[0;31mNameError\u001b[0m: name 's' is not defined"
          ]
        }
      ],
      "source": [
        "def cont():\n",
        "  input(\"-continue-\")\n",
        "pt_count=3\n",
        "hp=20\n",
        "enemy=input(\"choose your enemy: [1] Soul Strangler, [2] Grim Grip, [3] Mad Matrix:\")\n",
        "if enemy == \"soul strangler\" or enemy== \"1\":\n",
        "  enemy_dmg=5\n",
        "  enemy_hp=10\n",
        "  print(\"You chose the Soul Strangler to be your rival! Be aware, its hp stands at 10 and its dmg stands at 5.\")\n",
        "elif enemy == \"grim grip\" or enemy == \"2\":\n",
        "  enemy_dmg=3\n",
        "  enemy_hp=15\n",
        "  print(\"You chose the Grim Grip to be your rival! Be aware, its hp stands at 15 and its dmg stands at 3.\")\n",
        "elif enemy == \"Mad Matrix\" or enemy == \"3\":\n",
        "  enemy_dmg=2\n",
        "  enemy_hp=20\n",
        "  print(\"You chose the Mad Matrix to be your rival! Be aware, its hp stands at 20 and its dmg stands at 2.\")\n",
        "elif enemy == \"The Triumph\":\n",
        "  enemy_dmg=10\n",
        "  enemy_hp=30\n",
        "  print(\"Your essence of existens shook, as the ground breached with flames. From the chaos a titan emerged, filling the area with dark mist. You will be crashed by the might of The Triumph! \")\n",
        "elif enemy == \"mojin\":\n",
        "  print(\"Ha \"*10+\"...  YOUR BOLDNES ASTONISH ME! YOUR DOOM AWAITS YOU! \")\n",
        "  enemy_dmg=100\n",
        "  enemy_hp=1000\n",
        "else:\n",
        "  print(\"You have failed to choose an opponent. As a result, you will be fighting the Fools Foe! Its hp stands at 20 and its dmg stands at 5.\")\n",
        "  enemy_dmg=5\n",
        "  enemy_hp=20\n",
        "wapn=str(input(\"Choose your weapon: [1] Dagger, [2] Sword, [3] Hammer:\"))\n",
        "if wapn == \"sword\" or wapn==\"2\":\n",
        "   print(\"You have choosen the sword to be your weapon, your damage will be 3.\")\n",
        "   damage=3\n",
        "elif wapn == \"dagger\" or wapn==\"1\" :\n",
        "   print(\"You have choosen the dagger to be your weapon, your damage will be 2.\")\n",
        "   damage=2\n",
        "elif wapn == \"hammer\" or wapn==\"3\":\n",
        "    print(\"You have choosen the hammer to be your weapon, your damage will be 5.\")\n",
        "    damage=5\n",
        "elif wapn == \"chainsaw\":\n",
        "  print(\"You have discovered the chainsaw! Your damage can not be described.\")\n",
        "  damage=999\n",
        "else:\n",
        "  print(\"You have choosen air to be your weapon. But you will use your fists reluctantly, your damage will be 1.\")\n",
        "  damage=1\n",
        "while enemy_hp>0 and hp>0:\n",
        " act=str(input(\"what do you want to do? ([1] attack and, [2] heal.)\"))\n",
        " if act==\"attack\" or act==\"1\":\n",
        "   enemy_hp=enemy_hp-damage\n",
        "   print(\"You have attacked your enemy, its health has decresed by \",damage,\". It now has \",enemy_hp,\"hp.\")\n",
        "   cont()\n",
        " elif act == \"heal\" or act==\"2\":\n",
        "   if pt_count > 0:\n",
        "    pt_count-=1\n",
        "    hp=hp+5\n",
        "    if hp>20:\n",
        "      hp=20  \n",
        "    print(\"you have used a potion of healing: your hp has increased by 5. it is now\",hp,\".\", pt_count,\"potions remain \")\n",
        "   else:\n",
        "     print(\"you do not have any potions left.\")\n",
        "   cont()    \n",
        " else:\n",
        "   print(\"you have chose to do nothing. your turn will be skiped.\")\n",
        "   cont()\n",
        " if enemy_hp>0:\n",
        "   hp=hp-enemy_dmg\n",
        "   print(\"the enemy struck you: you have lost\",enemy_dmg,\"hp. you now have\", hp,\"hp left.\") \n",
        "if enemy_hp<=0:\n",
        "  if enemy == \"The Triumph\":\n",
        "    print(\"As the titan falls to the earth, you can fill a fragment of darkness ceases to exist while the beast returns to dust. You have made the world a safer, better place.\")\n",
        "  else:\n",
        "   print (\"you win!\")\n",
        "else:\n",
        "  if enemy == \"mojin\":\n",
        "   print(\"YOU WERE A\")\n",
        "  print(\"you have died...\")\n"
      ]
    },
    {
      "cell_type": "code",
      "source": [],
      "metadata": {
        "id": "s-4QSHaVs0vR"
      },
      "execution_count": null,
      "outputs": []
    }
  ]
}